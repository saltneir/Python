{
  "nbformat": 4,
  "nbformat_minor": 0,
  "metadata": {
    "colab": {
      "name": "2일차_2교시_input.ipynb",
      "provenance": [],
      "collapsed_sections": [],
      "authorship_tag": "ABX9TyOeKSwzOazA/CjtRKTc7omr",
      "include_colab_link": true
    },
    "kernelspec": {
      "name": "python3",
      "display_name": "Python 3"
    }
  },
  "cells": [
    {
      "cell_type": "markdown",
      "metadata": {
        "id": "view-in-github",
        "colab_type": "text"
      },
      "source": [
        "<a href=\"https://colab.research.google.com/github/saltneir/Python/blob/master/2%EC%9D%BC%EC%B0%A8_2%EA%B5%90%EC%8B%9C_input.ipynb\" target=\"_parent\"><img src=\"https://colab.research.google.com/assets/colab-badge.svg\" alt=\"Open In Colab\"/></a>"
      ]
    },
    {
      "cell_type": "code",
      "metadata": {
        "id": "rjvzI9JzDyPS",
        "colab_type": "code",
        "colab": {
          "base_uri": "https://localhost:8080/",
          "height": 51
        },
        "outputId": "9ddab8a2-0fd6-4d03-d278-ba472b42138a"
      },
      "source": [
        "a = input('당신의 이름을 입력하시오 >>> ')\n",
        "a"
      ],
      "execution_count": 3,
      "outputs": [
        {
          "output_type": "stream",
          "text": [
            "당신의 이름을 입력하시오 >>> 11\n"
          ],
          "name": "stdout"
        },
        {
          "output_type": "execute_result",
          "data": {
            "text/plain": [
              "'11'"
            ]
          },
          "metadata": {
            "tags": []
          },
          "execution_count": 3
        }
      ]
    },
    {
      "cell_type": "code",
      "metadata": {
        "id": "DVKTSwxpEgA7",
        "colab_type": "code",
        "colab": {
          "base_uri": "https://localhost:8080/",
          "height": 51
        },
        "outputId": "2b90bfbd-78f8-4983-fe84-9882232a3fdb"
      },
      "source": [
        "b = input('당신의 나이 >>> ')\n",
        "b"
      ],
      "execution_count": 5,
      "outputs": [
        {
          "output_type": "stream",
          "text": [
            "당신의 나이 >>> 19\n"
          ],
          "name": "stdout"
        },
        {
          "output_type": "execute_result",
          "data": {
            "text/plain": [
              "'19'"
            ]
          },
          "metadata": {
            "tags": []
          },
          "execution_count": 5
        }
      ]
    },
    {
      "cell_type": "code",
      "metadata": {
        "id": "A7YJG54lEoK-",
        "colab_type": "code",
        "colab": {
          "base_uri": "https://localhost:8080/",
          "height": 34
        },
        "outputId": "cab141c0-a935-4166-acb7-b07518eb58f2"
      },
      "source": [
        "type(b)"
      ],
      "execution_count": 7,
      "outputs": [
        {
          "output_type": "execute_result",
          "data": {
            "text/plain": [
              "str"
            ]
          },
          "metadata": {
            "tags": []
          },
          "execution_count": 7
        }
      ]
    },
    {
      "cell_type": "code",
      "metadata": {
        "id": "UVzhXtMYExP6",
        "colab_type": "code",
        "colab": {
          "base_uri": "https://localhost:8080/",
          "height": 34
        },
        "outputId": "afc80abd-3ead-415a-f3c9-e2678382df10"
      },
      "source": [
        "c = int(b)\n",
        "c, type(c)"
      ],
      "execution_count": 9,
      "outputs": [
        {
          "output_type": "execute_result",
          "data": {
            "text/plain": [
              "(19, int)"
            ]
          },
          "metadata": {
            "tags": []
          },
          "execution_count": 9
        }
      ]
    },
    {
      "cell_type": "code",
      "metadata": {
        "id": "ZNjzw5QyE9xd",
        "colab_type": "code",
        "colab": {
          "base_uri": "https://localhost:8080/",
          "height": 68
        },
        "outputId": "c18c11fb-6ae8-4aa5-f989-e7cb2aab81b1"
      },
      "source": [
        "year = int(input('출생년도를 입력하세요 >>> '))\n",
        "print('당신은 ', year, '년에 태어났군요')\n",
        "age = 2020-year+1\n",
        "print('당신의 나이는 ', age, '세입니다.')"
      ],
      "execution_count": 14,
      "outputs": [
        {
          "output_type": "stream",
          "text": [
            "출생년도를 입력하세요 >>> 2002\n",
            "당신은  2002 년에 태어났군요\n",
            "당신의 나이는  19 세입니다.\n"
          ],
          "name": "stdout"
        }
      ]
    },
    {
      "cell_type": "markdown",
      "metadata": {
        "id": "Klmr4y9THSPT",
        "colab_type": "text"
      },
      "source": [
        "**Format**\n",
        "서식지정자\n"
      ]
    },
    {
      "cell_type": "code",
      "metadata": {
        "id": "OPsP_Ml4G5gL",
        "colab_type": "code",
        "colab": {
          "base_uri": "https://localhost:8080/",
          "height": 34
        },
        "outputId": "e502bd9f-af5d-49e6-9fe3-dbb2e18fb733"
      },
      "source": [
        "s='a is {}'\n",
        "s.format('apple')"
      ],
      "execution_count": 17,
      "outputs": [
        {
          "output_type": "execute_result",
          "data": {
            "text/plain": [
              "'a is apple'"
            ]
          },
          "metadata": {
            "tags": []
          },
          "execution_count": 17
        }
      ]
    },
    {
      "cell_type": "code",
      "metadata": {
        "id": "YYM2y6kuHQL3",
        "colab_type": "code",
        "colab": {
          "base_uri": "https://localhost:8080/",
          "height": 51
        },
        "outputId": "ac62a8ec-ef0f-4467-89de-5c583b4ede0a"
      },
      "source": [
        "a = '%s %d 개 가격은 %.2f 달라'\n",
        "b = a %('햄버거', 2, 4.0*2)\n",
        "print(a)\n",
        "print(b)"
      ],
      "execution_count": 19,
      "outputs": [
        {
          "output_type": "stream",
          "text": [
            "%s %d 개 가격은 %.2f 달라\n",
            "햄버거 2 개 가격은 8.00 달라\n"
          ],
          "name": "stdout"
        }
      ]
    },
    {
      "cell_type": "code",
      "metadata": {
        "id": "cZaUcvjyIISN",
        "colab_type": "code",
        "colab": {
          "base_uri": "https://localhost:8080/",
          "height": 51
        },
        "outputId": "db72b624-a24d-46e6-c052-90e2f954d3c6"
      },
      "source": [
        "# 치킨 2마리 가격은 40000원\n",
        "a = '%s %d 개 가격은 %d 원'\n",
        "b = a %('치킨', 2, 20000*2)\n",
        "print(a)\n",
        "print(b)"
      ],
      "execution_count": 21,
      "outputs": [
        {
          "output_type": "stream",
          "text": [
            "%s %d 개 가격은 %d 원\n",
            "치킨 2 개 가격은 40000 원\n"
          ],
          "name": "stdout"
        }
      ]
    }
  ]
}