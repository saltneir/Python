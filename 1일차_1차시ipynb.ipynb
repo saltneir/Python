{
  "nbformat": 4,
  "nbformat_minor": 0,
  "metadata": {
    "colab": {
      "name": "1일차_1차시ipynb",
      "provenance": [],
      "authorship_tag": "ABX9TyPc9hmmLdSjgV187XZEuNOM",
      "include_colab_link": true
    },
    "kernelspec": {
      "name": "python3",
      "display_name": "Python 3"
    }
  },
  "cells": [
    {
      "cell_type": "markdown",
      "metadata": {
        "id": "view-in-github",
        "colab_type": "text"
      },
      "source": [
        "<a href=\"https://colab.research.google.com/github/saltneir/Python/blob/master/1%EC%9D%BC%EC%B0%A8_1%EC%B0%A8%EC%8B%9Cipynb.ipynb\" target=\"_parent\"><img src=\"https://colab.research.google.com/assets/colab-badge.svg\" alt=\"Open In Colab\"/></a>"
      ]
    },
    {
      "cell_type": "code",
      "metadata": {
        "id": "ITJXr9r120F9",
        "colab_type": "code",
        "colab": {}
      },
      "source": [
        "1"
      ],
      "execution_count": 0,
      "outputs": []
    },
    {
      "cell_type": "markdown",
      "metadata": {
        "id": "tqAas6b63NaX",
        "colab_type": "text"
      },
      "source": [
        "오늘은 ** 1일차 1교시 출력문** 작성내용입니다.\n",
        "___\n",
        "오늘의 학습목표\n",
        "1. 개발환경 설치\n",
        "2. 출력문 작성\n",
        "___\n"
      ]
    },
    {
      "cell_type": "code",
      "metadata": {
        "id": "ZsXXyhM43tkv",
        "colab_type": "code",
        "colab": {
          "base_uri": "https://localhost:8080/",
          "height": 34
        },
        "outputId": "3f33f6f9-4aaa-496d-af01-9feb827d0f5e"
      },
      "source": [
        "print('인천정보산업고')"
      ],
      "execution_count": 3,
      "outputs": [
        {
          "output_type": "stream",
          "text": [
            "인천정보산업고\n"
          ],
          "name": "stdout"
        }
      ]
    },
    {
      "cell_type": "code",
      "metadata": {
        "id": "m38jvhvH4Dzs",
        "colab_type": "code",
        "colab": {
          "base_uri": "https://localhost:8080/",
          "height": 34
        },
        "outputId": "0e27047f-85a7-4b2a-a0d1-1ab67f5129f5"
      },
      "source": [
        "a=1\n",
        "b=2\n",
        "a\n",
        "b\n",
        "print(a,b)"
      ],
      "execution_count": 6,
      "outputs": [
        {
          "output_type": "stream",
          "text": [
            "1 2\n"
          ],
          "name": "stdout"
        }
      ]
    },
    {
      "cell_type": "code",
      "metadata": {
        "id": "QyHpgtxK4Vw8",
        "colab_type": "code",
        "colab": {
          "base_uri": "https://localhost:8080/",
          "height": 34
        },
        "outputId": "0ce4ab76-3015-4617-acf5-02c78f9bab31"
      },
      "source": [
        "print('시공 좋아 ' * 3)"
      ],
      "execution_count": 11,
      "outputs": [
        {
          "output_type": "stream",
          "text": [
            "시공 좋아 시공 좋아 시공 좋아 \n"
          ],
          "name": "stdout"
        }
      ]
    },
    {
      "cell_type": "code",
      "metadata": {
        "id": "R82uuooN4fG2",
        "colab_type": "code",
        "colab": {}
      },
      "source": [
        ""
      ],
      "execution_count": 0,
      "outputs": []
    },
    {
      "cell_type": "markdown",
      "metadata": {
        "id": "0TzQMSG24lRC",
        "colab_type": "text"
      },
      "source": [
        "사칙연산\n",
        "\n",
        "```\n",
        "# +, -, *, **, /, //, %\n",
        "a=3, b=2\n",
        "a+b=5\n",
        "```\n",
        "\n"
      ]
    },
    {
      "cell_type": "code",
      "metadata": {
        "id": "h17VxtAh4u45",
        "colab_type": "code",
        "colab": {
          "base_uri": "https://localhost:8080/",
          "height": 34
        },
        "outputId": "d72b6b39-08bf-4390-afd8-394e1004aed8"
      },
      "source": [
        "a=3\n",
        "b=2\n",
        "print('a + b =',a+b)"
      ],
      "execution_count": 22,
      "outputs": [
        {
          "output_type": "stream",
          "text": [
            "a + b = 5\n"
          ],
          "name": "stdout"
        }
      ]
    },
    {
      "cell_type": "code",
      "metadata": {
        "id": "rOUeE2QK60dt",
        "colab_type": "code",
        "colab": {
          "base_uri": "https://localhost:8080/",
          "height": 34
        },
        "outputId": "2470f204-0fd9-469e-8134-cef6a7cbfea2"
      },
      "source": [
        "a=5\n",
        "b=3\n",
        "print('a - b =',a-b)"
      ],
      "execution_count": 25,
      "outputs": [
        {
          "output_type": "stream",
          "text": [
            "a - b = 2\n"
          ],
          "name": "stdout"
        }
      ]
    },
    {
      "cell_type": "code",
      "metadata": {
        "id": "5OWx2Ciy6_5N",
        "colab_type": "code",
        "colab": {
          "base_uri": "https://localhost:8080/",
          "height": 34
        },
        "outputId": "626ae30b-38ce-4cae-eaba-66d236c6c8dc"
      },
      "source": [
        "a=2\n",
        "b=3\n",
        "print('a * b =',a*b)"
      ],
      "execution_count": 27,
      "outputs": [
        {
          "output_type": "stream",
          "text": [
            "a * b = 6\n"
          ],
          "name": "stdout"
        }
      ]
    },
    {
      "cell_type": "code",
      "metadata": {
        "id": "PS-rL_qm7H9x",
        "colab_type": "code",
        "colab": {
          "base_uri": "https://localhost:8080/",
          "height": 34
        },
        "outputId": "61132c79-c5f6-4d02-9142-ef26e67b231d"
      },
      "source": [
        "a=2\n",
        "b=3\n",
        "print('a ** b =',a**b)"
      ],
      "execution_count": 32,
      "outputs": [
        {
          "output_type": "stream",
          "text": [
            "a ** b = 8\n"
          ],
          "name": "stdout"
        }
      ]
    },
    {
      "cell_type": "code",
      "metadata": {
        "id": "DMMC1Ylv7iNz",
        "colab_type": "code",
        "colab": {
          "base_uri": "https://localhost:8080/",
          "height": 34
        },
        "outputId": "eba444dd-7002-4919-a5ca-6e4071777a62"
      },
      "source": [
        "a=10\n",
        "b=4\n",
        "print('a / b =',a/b)"
      ],
      "execution_count": 34,
      "outputs": [
        {
          "output_type": "stream",
          "text": [
            "a / b = 2.5\n"
          ],
          "name": "stdout"
        }
      ]
    },
    {
      "cell_type": "code",
      "metadata": {
        "id": "YZrQr8aY78sC",
        "colab_type": "code",
        "colab": {
          "base_uri": "https://localhost:8080/",
          "height": 34
        },
        "outputId": "b5905430-54d7-49d3-adaa-089ef02e8a31"
      },
      "source": [
        "a=10\n",
        "b=4\n",
        "print('a // b =',a//b)"
      ],
      "execution_count": 36,
      "outputs": [
        {
          "output_type": "stream",
          "text": [
            "a // b = 2\n"
          ],
          "name": "stdout"
        }
      ]
    },
    {
      "cell_type": "code",
      "metadata": {
        "id": "ZSrPHule8GOC",
        "colab_type": "code",
        "colab": {
          "base_uri": "https://localhost:8080/",
          "height": 34
        },
        "outputId": "09975014-ab37-444b-c00f-b7c21b88973f"
      },
      "source": [
        "a=10\n",
        "b=2\n",
        "print('a % b =',a%b)"
      ],
      "execution_count": 38,
      "outputs": [
        {
          "output_type": "stream",
          "text": [
            "a % b = 0\n"
          ],
          "name": "stdout"
        }
      ]
    }
  ]
}